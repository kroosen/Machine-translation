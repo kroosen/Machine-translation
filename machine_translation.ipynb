{
 "cells": [
  {
   "cell_type": "markdown",
   "metadata": {
    "collapsed": true,
    "deletable": true,
    "editable": true
   },
   "source": [
    "# Artificial Intelligence Nanodegree\n",
    "## Machine Translation Project\n",
    "In this notebook, sections that end with **'(IMPLEMENTATION)'** in the header indicate that the following blocks of code will require additional functionality which you must provide. Please be sure to read the instructions carefully!\n",
    "\n",
    "## Introduction\n",
    "In this notebook, you will build a deep neural network that functions as part of an end-to-end machine translation pipeline. Your completed pipeline will accept English text as input and return the French translation.\n",
    "\n",
    "- **Preprocess** - You'll convert text to sequence of integers.\n",
    "- **Models** Create models which accepts a sequence of integers as input and returns a probability distribution over possible translations. After learning about the basic types of neural networks that are often used for machine translation, you will engage in your own investigations, to design your own model!\n",
    "- **Prediction** Run the model on English text.\n",
    "\n",
    "## Dataset\n",
    "We begin by investigating the dataset that will be used to train and evaluate your pipeline.  The most common datasets used for machine translation are from [WMT](http://www.statmt.org/).  However, that will take a long time to train a neural network on.  We'll be using a dataset we created for this project that contains a small vocabulary.  You'll be able to train your model in a reasonable time with this dataset.\n",
    "### Load Data\n",
    "The data is located in `data/small_vocab_en` and `data/small_vocab_fr`. The `small_vocab_en` file contains English sentences with their French translations in the `small_vocab_fr` file. Load the English and French data from these files from running the cell below."
   ]
  },
  {
   "cell_type": "code",
   "execution_count": 1,
   "metadata": {
    "collapsed": false,
    "deletable": true,
    "editable": true
   },
   "outputs": [
    {
     "name": "stdout",
     "output_type": "stream",
     "text": [
      "Dataset Loaded\n"
     ]
    }
   ],
   "source": [
    "import helper\n",
    "\n",
    "\n",
    "# Load English data\n",
    "english_sentences = helper.load_data('data/small_vocab_en')\n",
    "# Load French data\n",
    "french_sentences = helper.load_data('data/small_vocab_fr')\n",
    "\n",
    "print('Dataset Loaded')"
   ]
  },
  {
   "cell_type": "markdown",
   "metadata": {
    "deletable": true,
    "editable": true
   },
   "source": [
    "### Files\n",
    "Each line in `small_vocab_en` contains an English sentence with the respective translation in each line of `small_vocab_fr`.  View the first two lines from each file."
   ]
  },
  {
   "cell_type": "code",
   "execution_count": 2,
   "metadata": {
    "collapsed": false,
    "deletable": true,
    "editable": true
   },
   "outputs": [
    {
     "name": "stdout",
     "output_type": "stream",
     "text": [
      "small_vocab_en Line 1:  new jersey is sometimes quiet during autumn , and it is snowy in april .\n",
      "small_vocab_fr Line 1:  new jersey est parfois calme pendant l' automne , et il est neigeux en avril .\n",
      "small_vocab_en Line 2:  the united states is usually chilly during july , and it is usually freezing in november .\n",
      "small_vocab_fr Line 2:  les Ã©tats-unis est gÃ©nÃ©ralement froid en juillet , et il gÃ¨le habituellement en novembre .\n"
     ]
    }
   ],
   "source": [
    "for sample_i in range(2):\n",
    "    print('small_vocab_en Line {}:  {}'.format(sample_i + 1, english_sentences[sample_i]))\n",
    "    print('small_vocab_fr Line {}:  {}'.format(sample_i + 1, french_sentences[sample_i]))"
   ]
  },
  {
   "cell_type": "markdown",
   "metadata": {
    "deletable": true,
    "editable": true
   },
   "source": [
    "From looking at the sentences, you can see they have been preprocessed already.  The puncuations have been delimited using spaces. All the text have been converted to lowercase.  This should save you some time, but the text requires more preprocessing.\n",
    "### Vocabulary\n",
    "The complexity of the problem is determined by the complexity of the vocabulary.  A more complex vocabulary is a more complex problem.  Let's look at the complexity of the dataset we'll be working with."
   ]
  },
  {
   "cell_type": "code",
   "execution_count": 3,
   "metadata": {
    "collapsed": false,
    "deletable": true,
    "editable": true
   },
   "outputs": [
    {
     "name": "stdout",
     "output_type": "stream",
     "text": [
      "1823250 English words.\n",
      "227 unique English words.\n",
      "10 Most common words in the English dataset:\n",
      "\"is\" \",\" \".\" \"in\" \"it\" \"during\" \"the\" \"but\" \"and\" \"sometimes\"\n",
      "\n",
      "1961295 French words.\n",
      "355 unique French words.\n",
      "10 Most common words in the French dataset:\n",
      "\"est\" \".\" \",\" \"en\" \"il\" \"les\" \"mais\" \"et\" \"la\" \"parfois\"\n"
     ]
    }
   ],
   "source": [
    "import collections\n",
    "\n",
    "\n",
    "english_words_counter = collections.Counter([word for sentence in english_sentences for word in sentence.split()])\n",
    "french_words_counter = collections.Counter([word for sentence in french_sentences for word in sentence.split()])\n",
    "\n",
    "print('{} English words.'.format(len([word for sentence in english_sentences for word in sentence.split()])))\n",
    "print('{} unique English words.'.format(len(english_words_counter)))\n",
    "print('10 Most common words in the English dataset:')\n",
    "print('\"' + '\" \"'.join(list(zip(*english_words_counter.most_common(10)))[0]) + '\"')\n",
    "print()\n",
    "print('{} French words.'.format(len([word for sentence in french_sentences for word in sentence.split()])))\n",
    "print('{} unique French words.'.format(len(french_words_counter)))\n",
    "print('10 Most common words in the French dataset:')\n",
    "print('\"' + '\" \"'.join(list(zip(*french_words_counter.most_common(10)))[0]) + '\"')"
   ]
  },
  {
   "cell_type": "markdown",
   "metadata": {
    "deletable": true,
    "editable": true
   },
   "source": [
    "For comparison, _Alice's Adventures in Wonderland_ contains 2,766 unique words of a total of 15,500 words.\n",
    "## Preprocess\n",
    "For this project, you won't use text data as input to your model. Instead, you'll convert the text into sequences of integers using the following preprocess methods:\n",
    "1. Tokenize the words into ids\n",
    "2. Add padding to make all the sequences the same length.\n",
    "\n",
    "Time to start preprocessing the data...\n",
    "### Tokenize (IMPLEMENTATION)\n",
    "For a neural network to predict on text data, it first has to be turned into data it can understand. Text data like \"dog\" is a sequence of ASCII character encodings.  Since a neural network is a series of multiplication and addition operations, the input data needs to be number(s).\n",
    "\n",
    "We can turn each character into a number or each word into a number.  These are called character and word ids, respectively.  Character ids are used for character level models that generate text predictions for each character.  A word level model uses word ids that generate text predictions for each word.  Word level models tend to learn better, since they are lower in complexity, so we'll use those.\n",
    "\n",
    "Turn each sentence into a sequence of words ids using Keras's [`Tokenizer`](https://keras.io/preprocessing/text/#tokenizer) function. Use this function to tokenize `english_sentences` and `french_sentences` in the cell below.\n",
    "\n",
    "Running the cell will run `tokenize` on sample data and show output for debugging."
   ]
  },
  {
   "cell_type": "code",
   "execution_count": 4,
   "metadata": {
    "collapsed": false,
    "deletable": true,
    "editable": true
   },
   "outputs": [
    {
     "name": "stderr",
     "output_type": "stream",
     "text": [
      "Using TensorFlow backend.\n"
     ]
    },
    {
     "name": "stdout",
     "output_type": "stream",
     "text": [
      "{'my': 4, 'short': 5, 'brown': 6, 'the': 1, 'this': 7, 'over': 8, 'dog': 9, 'lexicography': 10, 'a': 2, 'fox': 11, 'jove': 12, 'of': 13, 'lazy': 14, 'prize': 15, 'jumps': 16, 'won': 17, 'quick': 3, 'is': 18, 'by': 19, 'sentence': 20, 'study': 21}\n",
      "\n",
      "Sequence 1 in x\n",
      "  Input:  The quick brown fox jumps over the lazy dog .\n",
      "  Output: [1, 3, 6, 11, 16, 8, 1, 14, 9]\n",
      "Sequence 2 in x\n",
      "  Input:  By Jove , my quick study of lexicography won a prize .\n",
      "  Output: [19, 12, 4, 3, 21, 13, 10, 17, 2, 15]\n",
      "Sequence 3 in x\n",
      "  Input:  This is a short sentence .\n",
      "  Output: [7, 18, 2, 5, 20]\n"
     ]
    }
   ],
   "source": [
    "import project_tests as tests\n",
    "from keras.preprocessing.text import Tokenizer\n",
    "\n",
    "\n",
    "def tokenize(x):\n",
    "    \"\"\"\n",
    "    Tokenize x\n",
    "    :param x: List of sentences/strings to be tokenized\n",
    "    :return: Tuple of (tokenized x data, tokenizer used to tokenize x)\n",
    "    \"\"\"\n",
    "    t = Tokenizer()\n",
    "    t.fit_on_texts(x)\n",
    "    tokenized = t.texts_to_sequences(x)\n",
    "    return tokenized, t\n",
    "tests.test_tokenize(tokenize)\n",
    "\n",
    "# Tokenize Example output\n",
    "text_sentences = [\n",
    "    'The quick brown fox jumps over the lazy dog .',\n",
    "    'By Jove , my quick study of lexicography won a prize .',\n",
    "    'This is a short sentence .']\n",
    "text_tokenized, text_tokenizer = tokenize(text_sentences)\n",
    "print(text_tokenizer.word_index)\n",
    "print()\n",
    "for sample_i, (sent, token_sent) in enumerate(zip(text_sentences, text_tokenized)):\n",
    "    print('Sequence {} in x'.format(sample_i + 1))\n",
    "    print('  Input:  {}'.format(sent))\n",
    "    print('  Output: {}'.format(token_sent))"
   ]
  },
  {
   "cell_type": "markdown",
   "metadata": {
    "deletable": true,
    "editable": true
   },
   "source": [
    "### Padding (IMPLEMENTATION)\n",
    "When batching the sequence of word ids together, each sequence needs to be the same length.  Since sentences are dynamic in length, we can add padding to the end of the sequences to make them the same length.\n",
    "\n",
    "Make sure all the English sequences have the same length and all the French sequences have the same length by adding padding to the **end** of each sequence using Keras's [`pad_sequences`](https://keras.io/preprocessing/sequence/#pad_sequences) function."
   ]
  },
  {
   "cell_type": "code",
   "execution_count": 5,
   "metadata": {
    "collapsed": false,
    "deletable": true,
    "editable": true
   },
   "outputs": [
    {
     "name": "stdout",
     "output_type": "stream",
     "text": [
      "Sequence 1 in x\n",
      "  Input:  [ 1  3  6 11 16  8  1 14  9]\n",
      "  Output: [ 1  3  6 11 16  8  1 14  9  0]\n",
      "Sequence 2 in x\n",
      "  Input:  [19 12  4  3 21 13 10 17  2 15]\n",
      "  Output: [19 12  4  3 21 13 10 17  2 15]\n",
      "Sequence 3 in x\n",
      "  Input:  [ 7 18  2  5 20]\n",
      "  Output: [ 7 18  2  5 20  0  0  0  0  0]\n"
     ]
    }
   ],
   "source": [
    "import numpy as np\n",
    "from keras.preprocessing.sequence import pad_sequences\n",
    "\n",
    "\n",
    "def pad(x, length=None):\n",
    "    \"\"\"\n",
    "    Pad x\n",
    "    :param x: List of sequences.\n",
    "    :param length: Length to pad the sequence to.  If None, use length of longest sequence in x.\n",
    "    :return: Padded numpy array of sequences\n",
    "    \"\"\"\n",
    "    return pad_sequences(x, maxlen=length, padding='post', truncating='post')\n",
    "\n",
    "tests.test_pad(pad)\n",
    "\n",
    "# Pad Tokenized output\n",
    "test_pad = pad(text_tokenized)\n",
    "for sample_i, (token_sent, pad_sent) in enumerate(zip(text_tokenized, test_pad)):\n",
    "    print('Sequence {} in x'.format(sample_i + 1))\n",
    "    print('  Input:  {}'.format(np.array(token_sent)))\n",
    "    print('  Output: {}'.format(pad_sent))"
   ]
  },
  {
   "cell_type": "markdown",
   "metadata": {
    "deletable": true,
    "editable": true
   },
   "source": [
    "### Preprocess Pipeline\n",
    "Your focus for this project is to build neural network architecture, so we won't ask you to create a preprocess pipeline.  Instead, we've provided you with the implementation of the `preprocess` function."
   ]
  },
  {
   "cell_type": "code",
   "execution_count": 6,
   "metadata": {
    "collapsed": false,
    "deletable": true,
    "editable": true
   },
   "outputs": [
    {
     "name": "stdout",
     "output_type": "stream",
     "text": [
      "Data Preprocessed\n"
     ]
    }
   ],
   "source": [
    "def preprocess(x, y):\n",
    "    \"\"\"\n",
    "    Preprocess x and y\n",
    "    :param x: Feature List of sentences\n",
    "    :param y: Label List of sentences\n",
    "    :return: Tuple of (Preprocessed x, Preprocessed y, x tokenizer, y tokenizer)\n",
    "    \"\"\"\n",
    "    preprocess_x, x_tk = tokenize(x)\n",
    "    preprocess_y, y_tk = tokenize(y)\n",
    "\n",
    "    preprocess_x = pad(preprocess_x)\n",
    "    preprocess_y = pad(preprocess_y)\n",
    "\n",
    "    # Keras's sparse_categorical_crossentropy function requires the labels to be in 3 dimensions\n",
    "    preprocess_y = preprocess_y.reshape(*preprocess_y.shape, 1)\n",
    "\n",
    "    return preprocess_x, preprocess_y, x_tk, y_tk\n",
    "\n",
    "preproc_english_sentences, preproc_french_sentences, english_tokenizer, french_tokenizer =\\\n",
    "    preprocess(english_sentences, french_sentences)\n",
    "\n",
    "print('Data Preprocessed')"
   ]
  },
  {
   "cell_type": "markdown",
   "metadata": {
    "deletable": true,
    "editable": true
   },
   "source": [
    "## Models\n",
    "In this section, you will experiment with various neural network architectures.\n",
    "You will begin by training four relatively simple architectures.\n",
    "- Model 1 is a simple RNN\n",
    "- Model 2 is a RNN with Embedding\n",
    "- Model 3 is a Bidirectional RNN\n",
    "- Model 4 is an optional Encoder-Decoder RNN\n",
    "\n",
    "After experimenting with the four simple architectures, you will construct a deeper architecture that is designed to outperform all four models.\n",
    "### Ids Back to Text\n",
    "The neural network will be translating the input to words ids, which isn't the final form we want.  We want the French translation.  The function `logits_to_text` will bridge the gap between the logits from the neural network to the French translation.  You'll be using this function to better understand the output of the neural network."
   ]
  },
  {
   "cell_type": "code",
   "execution_count": 7,
   "metadata": {
    "collapsed": false,
    "deletable": true,
    "editable": true
   },
   "outputs": [
    {
     "name": "stdout",
     "output_type": "stream",
     "text": [
      "`logits_to_text` function loaded.\n"
     ]
    }
   ],
   "source": [
    "def logits_to_text(logits, tokenizer):\n",
    "    \"\"\"\n",
    "    Turn logits from a neural network into text using the tokenizer\n",
    "    :param logits: Logits from a neural network\n",
    "    :param tokenizer: Keras Tokenizer fit on the labels\n",
    "    :return: String that represents the text of the logits\n",
    "    \"\"\"\n",
    "    index_to_words = {id: word for word, id in tokenizer.word_index.items()}\n",
    "    index_to_words[0] = '<PAD>'\n",
    "\n",
    "    return ' '.join([index_to_words[prediction] for prediction in np.argmax(logits, 1)])\n",
    "\n",
    "print('`logits_to_text` function loaded.')"
   ]
  },
  {
   "cell_type": "markdown",
   "metadata": {
    "deletable": true,
    "editable": true
   },
   "source": [
    "### Model 1: RNN (IMPLEMENTATION)\n",
    "![RNN](images/rnn.png)\n",
    "A basic RNN model is a good baseline for sequence data.  In this model, you'll build a RNN that translates English to French."
   ]
  },
  {
   "cell_type": "code",
   "execution_count": 8,
   "metadata": {
    "collapsed": false,
    "deletable": true,
    "editable": true
   },
   "outputs": [],
   "source": [
    "# Inspecting the French vocabulary\n",
    "#fr_words = [w for w in french_tokenizer.word_index.keys()]\n",
    "#for w in fr_words:\n",
    "#    print(w)"
   ]
  },
  {
   "cell_type": "code",
   "execution_count": 9,
   "metadata": {
    "collapsed": false,
    "deletable": true,
    "editable": true
   },
   "outputs": [],
   "source": [
    "# Set folder to save all future models into\n",
    "import os\n",
    "\n",
    "cache_dir = os.path.join(\"cache\", \"models\")"
   ]
  },
  {
   "cell_type": "code",
   "execution_count": 10,
   "metadata": {
    "collapsed": false,
    "deletable": true,
    "editable": true
   },
   "outputs": [
    {
     "name": "stdout",
     "output_type": "stream",
     "text": [
      "Padded sequences shape: (137861, 21)\n",
      "Reshaped for model input: (137861, 21, 1)\n",
      "Shape of data fed to model.fit: (137861, 21, 1)\n",
      "Output sequence length fed to model.fit: 21\n",
      "Deleting history file if existing...\n",
      "Training model from scratch and saving as rnn_model1.h5\n",
      "Shape after GRU: (?, ?, 64).\n",
      "Shape after TD(Dense): (?, 21, 346).\n",
      "_________________________________________________________________\n",
      "Layer (type)                 Output Shape              Param #   \n",
      "=================================================================\n",
      "input_1 (InputLayer)         (None, 21, 1)             0         \n",
      "_________________________________________________________________\n",
      "gru_1 (GRU)                  (None, 21, 64)            12672     \n",
      "_________________________________________________________________\n",
      "time_distributed_1 (TimeDist (None, 21, 346)           22490     \n",
      "_________________________________________________________________\n",
      "activation_1 (Activation)    (None, 21, 346)           0         \n",
      "=================================================================\n",
      "Total params: 35,162.0\n",
      "Trainable params: 35,162.0\n",
      "Non-trainable params: 0.0\n",
      "_________________________________________________________________\n"
     ]
    },
    {
     "data": {
      "application/vnd.jupyter.widget-view+json": {
       "model_id": "d336ea71f9c64175b252ea5b7e4aa628"
      }
     },
     "metadata": {},
     "output_type": "display_data"
    },
    {
     "data": {
      "application/vnd.jupyter.widget-view+json": {
       "model_id": "c9737b66ab0142e2b8aa34d1871584dc"
      }
     },
     "metadata": {},
     "output_type": "display_data"
    },
    {
     "data": {
      "application/vnd.jupyter.widget-view+json": {
       "model_id": "27f30680056947fca55b7fd552cbcaef"
      }
     },
     "metadata": {},
     "output_type": "display_data"
    },
    {
     "data": {
      "application/vnd.jupyter.widget-view+json": {
       "model_id": "96120fa8d2b348fa8dc65a895f1b4d1c"
      }
     },
     "metadata": {},
     "output_type": "display_data"
    },
    {
     "data": {
      "application/vnd.jupyter.widget-view+json": {
       "model_id": "324bae94c7184dacaf7fc6eecb32c116"
      }
     },
     "metadata": {},
     "output_type": "display_data"
    },
    {
     "data": {
      "application/vnd.jupyter.widget-view+json": {
       "model_id": "ed6c50ef22c2411daf369ed3c98cca4f"
      }
     },
     "metadata": {},
     "output_type": "display_data"
    },
    {
     "data": {
      "application/vnd.jupyter.widget-view+json": {
       "model_id": "8500b9d9cbee47ad9a9e7a0f6f267695"
      }
     },
     "metadata": {},
     "output_type": "display_data"
    },
    {
     "data": {
      "application/vnd.jupyter.widget-view+json": {
       "model_id": "f2c0b713595246a5917bf99c913a5da9"
      }
     },
     "metadata": {},
     "output_type": "display_data"
    },
    {
     "data": {
      "application/vnd.jupyter.widget-view+json": {
       "model_id": "27f46b2845b14e1e944810a762e2f47e"
      }
     },
     "metadata": {},
     "output_type": "display_data"
    },
    {
     "data": {
      "application/vnd.jupyter.widget-view+json": {
       "model_id": "664f646cf3ee42b980e0aa9e72dde840"
      }
     },
     "metadata": {},
     "output_type": "display_data"
    },
    {
     "data": {
      "application/vnd.jupyter.widget-view+json": {
       "model_id": "bf54c1cf242a40fcbda68b364541bf13"
      }
     },
     "metadata": {},
     "output_type": "display_data"
    },
    {
     "name": "stdout",
     "output_type": "stream",
     "text": [
      "\n",
      "\n",
      "History file saved!\n",
      "new jersey est parfois calme en mois et il est est en en <PAD> <PAD> <PAD> <PAD> <PAD> <PAD> <PAD> <PAD>\n"
     ]
    }
   ],
   "source": [
    "from keras.layers import GRU, Input, Dense, TimeDistributed\n",
    "from keras.models import Model, load_model\n",
    "from keras.layers import Activation\n",
    "from keras.optimizers import Adam\n",
    "from keras.losses import sparse_categorical_crossentropy\n",
    "from keras_tqdm import TQDMNotebookCallback\n",
    "import json\n",
    "\n",
    "def simple_model(input_shape, output_sequence_length, english_vocab_size, french_vocab_size):\n",
    "    \"\"\"\n",
    "    Build and train a basic RNN on x and y\n",
    "    :param input_shape: Tuple of input shape\n",
    "    :param output_sequence_length: Length of output sequence\n",
    "    :param english_vocab_size: Number of unique English words in the dataset\n",
    "    :param french_vocab_size: Number of unique French words in the dataset\n",
    "    :return: Keras model built, but not trained\n",
    "    \"\"\"\n",
    "    # TODO: Build the layers\n",
    "    learning_rate=0.02\n",
    "    \n",
    "    inputs = Input(shape=input_shape[1:])  # The input shape is (length_of_sequence, 1)\n",
    "    \n",
    "    outputs = GRU(units=64, return_sequences=True)(inputs)  # no. of units is arbitrary. Return sequences = True to return the entire output sequence, not just the last output\n",
    "    print(\"Shape after GRU: {}.\".format(outputs.shape))\n",
    "    \n",
    "    outputs = TimeDistributed(Dense(french_vocab_size + 1))(outputs)  # 1 node for each possible French word + 1 for the padding token!\n",
    "    print(\"Shape after TD(Dense): {}.\".format(outputs.shape))\n",
    "    \n",
    "    # The sequence (sentence) is going through the Dense layer 1 word at a time. This is done by TimeDistributed.\n",
    "    outputs = Activation('softmax')(outputs)\n",
    "    \n",
    "    model = Model(inputs=inputs, outputs=outputs)\n",
    "    model.compile(loss=sparse_categorical_crossentropy,\n",
    "                  optimizer=Adam(learning_rate),\n",
    "                  metrics=['accuracy'])\n",
    "    model.save(os.path.join(cache_dir, model_file))\n",
    "    return model\n",
    "\n",
    "#tests.test_simple_model(simple_model)\n",
    "\n",
    "# Reshaping the input to work with a basic RNN\n",
    "tmp_x = pad(preproc_english_sentences, preproc_french_sentences.shape[1])\n",
    "print(\"Padded sequences shape:\", tmp_x.shape)\n",
    "tmp_x = tmp_x.reshape((-1, preproc_french_sentences.shape[-2], 1))\n",
    "print(\"Reshaped for model input:\", tmp_x.shape)\n",
    "\n",
    "print(\"Shape of data fed to model.fit: {}\".format(tmp_x.shape))\n",
    "print(\"Output sequence length fed to model.fit: {}\".format(preproc_french_sentences.shape[1]))\n",
    "\n",
    "# Train the neural network\n",
    "model_file = \"rnn_model1.h5\"\n",
    "history_file = \"history1.txt\"\n",
    "try:\n",
    "    simple_rnn_model = load_model(os.path.join(cache_dir, model_file))\n",
    "    print(\"Loaded model from file {}\".format(model_file))\n",
    "    simple_rnn_model.summary()\n",
    "except:\n",
    "    print(\"Deleting history file if existing...\")\n",
    "    if os.path.isfile(os.path.join(cache_dir, history_file)):\n",
    "        os.remove(os.path.join(cache_dir, history_file))\n",
    "    print(\"Training model from scratch and saving as {}\".format(model_file))\n",
    "    simple_rnn_model = simple_model(\n",
    "        tmp_x.shape,\n",
    "        preproc_french_sentences.shape[1],\n",
    "        len(english_tokenizer.word_index),\n",
    "        len(french_tokenizer.word_index))\n",
    "    simple_rnn_model.summary()\n",
    "    history = simple_rnn_model.fit(tmp_x, preproc_french_sentences, batch_size=1024, epochs=10, validation_split=0.2, callbacks=[TQDMNotebookCallback()], verbose=0)\n",
    "    simple_rnn_model.save(os.path.join(cache_dir, model_file))\n",
    "    with open(os.path.join(cache_dir, history_file), 'w') as f:\n",
    "        json.dump(history.history, f)\n",
    "    print(\"\\nHistory file saved!\")\n",
    "\n",
    "# Print prediction(s)\n",
    "print(logits_to_text(simple_rnn_model.predict(tmp_x[:1])[0], french_tokenizer))"
   ]
  },
  {
   "cell_type": "markdown",
   "metadata": {
    "deletable": true,
    "editable": true
   },
   "source": [
    "### Model 2: Embedding (IMPLEMENTATION)\n",
    "![RNN](images/embedding.png)\n",
    "You've turned the words into ids, but there's a better representation of a word.  This is called word embeddings.  An embedding is a vector representation of the word that is close to similar words in n-dimensional space, where the n represents the size of the embedding vectors.\n",
    "\n",
    "In this model, you'll create a RNN model using embedding."
   ]
  },
  {
   "cell_type": "code",
   "execution_count": 11,
   "metadata": {
    "collapsed": false,
    "deletable": true,
    "editable": true
   },
   "outputs": [
    {
     "name": "stdout",
     "output_type": "stream",
     "text": [
      "Padded sequences shape: (137861, 21)\n",
      "Shape of data fed to model.fit: (137861, 21)\n",
      "Output sequence length fed to model.fit: 21\n",
      "Shape of data fed to model.fit: (137861, 21)\n",
      "Output sequence length fed to model.fit: 21\n",
      "Deleting history file if existing...\n",
      "Training model from scratch and saving as rnn_model2.h5\n",
      "Using input shape (21,)\n",
      "Shape of Model() inputs: (?, 21)\n",
      "Shape after word embedding: (?, 21, 32)\n",
      "Shape after GRU: (?, ?, 64)\n",
      "Shape after TD(Dense): (?, 21, 346)\n",
      "_________________________________________________________________\n",
      "Layer (type)                 Output Shape              Param #   \n",
      "=================================================================\n",
      "input_2 (InputLayer)         (None, 21)                0         \n",
      "_________________________________________________________________\n",
      "embedding_1 (Embedding)      (None, 21, 32)            6400      \n",
      "_________________________________________________________________\n",
      "gru_2 (GRU)                  (None, 21, 64)            18624     \n",
      "_________________________________________________________________\n",
      "time_distributed_2 (TimeDist (None, 21, 346)           22490     \n",
      "_________________________________________________________________\n",
      "activation_2 (Activation)    (None, 21, 346)           0         \n",
      "=================================================================\n",
      "Total params: 47,514.0\n",
      "Trainable params: 47,514.0\n",
      "Non-trainable params: 0.0\n",
      "_________________________________________________________________\n"
     ]
    },
    {
     "data": {
      "application/vnd.jupyter.widget-view+json": {
       "model_id": "93788b0685fb4e9fb8108f34650d5f05"
      }
     },
     "metadata": {},
     "output_type": "display_data"
    },
    {
     "data": {
      "application/vnd.jupyter.widget-view+json": {
       "model_id": "47868bec90ca4504b87e76b6e9485c53"
      }
     },
     "metadata": {},
     "output_type": "display_data"
    },
    {
     "data": {
      "application/vnd.jupyter.widget-view+json": {
       "model_id": "81a7b713a2d14cdd9b70848a306903f9"
      }
     },
     "metadata": {},
     "output_type": "display_data"
    },
    {
     "data": {
      "application/vnd.jupyter.widget-view+json": {
       "model_id": "bffe11eddd2a4c109838e721caf31a12"
      }
     },
     "metadata": {},
     "output_type": "display_data"
    },
    {
     "data": {
      "application/vnd.jupyter.widget-view+json": {
       "model_id": "9d97ed036451459b9e16d042b2efca9a"
      }
     },
     "metadata": {},
     "output_type": "display_data"
    },
    {
     "data": {
      "application/vnd.jupyter.widget-view+json": {
       "model_id": "7a78befed6e440e48fb2c9eae3aa05b9"
      }
     },
     "metadata": {},
     "output_type": "display_data"
    },
    {
     "data": {
      "application/vnd.jupyter.widget-view+json": {
       "model_id": "e471e2f1a23c48aa95caf5428687db81"
      }
     },
     "metadata": {},
     "output_type": "display_data"
    },
    {
     "data": {
      "application/vnd.jupyter.widget-view+json": {
       "model_id": "f15f62cbcf3f429884a639497a56cd2b"
      }
     },
     "metadata": {},
     "output_type": "display_data"
    },
    {
     "data": {
      "application/vnd.jupyter.widget-view+json": {
       "model_id": "225d96ac59424d2ca7f244b73699bc29"
      }
     },
     "metadata": {},
     "output_type": "display_data"
    },
    {
     "data": {
      "application/vnd.jupyter.widget-view+json": {
       "model_id": "1647a95d68a94add89c8c0141a3bec8a"
      }
     },
     "metadata": {},
     "output_type": "display_data"
    },
    {
     "data": {
      "application/vnd.jupyter.widget-view+json": {
       "model_id": "7795cdf9511c461a92d9ebe5b77e7991"
      }
     },
     "metadata": {},
     "output_type": "display_data"
    },
    {
     "name": "stdout",
     "output_type": "stream",
     "text": [
      "\n",
      "\n",
      "History file saved!\n",
      "new jersey est parfois calme en l' et l' il est en en en <PAD> <PAD> <PAD> <PAD> <PAD> <PAD> <PAD>\n"
     ]
    }
   ],
   "source": [
    "from keras.layers.embeddings import Embedding\n",
    "\n",
    "\n",
    "def embed_model(input_shape, output_sequence_length, english_vocab_size, french_vocab_size):\n",
    "    \"\"\"\n",
    "    Build and train a RNN model using word embedding on x and y\n",
    "    :param input_shape: Tuple of input shape\n",
    "    :param output_sequence_length: Length of output sequence\n",
    "    :param english_vocab_size: Number of unique English words in the dataset\n",
    "    :param french_vocab_size: Number of unique French words in the dataset\n",
    "    :return: Keras model built, but not trained\n",
    "    \"\"\"\n",
    "    learning_rate=0.02\n",
    "    print(\"Using input shape {}\".format(input_shape[1:]))\n",
    "    \n",
    "    inputs = Input(shape=input_shape[1:])  # The input shape is (length_of_sequence, 1)\n",
    "    print(\"Shape of Model() inputs: {}\".format(inputs.shape))\n",
    "    \n",
    "    outputs = Embedding(input_dim=english_vocab_size+1, output_dim=32, input_length=input_shape[-1])(inputs)\n",
    "    print(\"Shape after word embedding: {}\".format(outputs.shape))\n",
    "    \n",
    "    outputs = GRU(units=64, return_sequences=True)(outputs)  # no. of units is arbitrary. Return sequences = True to return the entire output sequence, not just the last output\n",
    "    print(\"Shape after GRU: {}\".format(outputs.shape))\n",
    "    \n",
    "    outputs = TimeDistributed(Dense(french_vocab_size + 1))(outputs)  # 1 node for each possible French word + 1 for the padding token!\n",
    "    print(\"Shape after TD(Dense): {}\".format(outputs.shape))\n",
    "    \n",
    "    # The sequence (sentence) is going through the Dense layer 1 word at a time. This is done by TimeDistributed.\n",
    "    outputs = Activation('softmax')(outputs)\n",
    "    \n",
    "    model = Model(inputs=inputs, outputs=outputs)\n",
    "    model.compile(loss=sparse_categorical_crossentropy,\n",
    "                  optimizer=Adam(learning_rate),\n",
    "                  metrics=['accuracy'])\n",
    "    model.summary()\n",
    "    return model\n",
    "#tests.test_embed_model(embed_model)\n",
    "\n",
    "# TODO: Reshape the input\n",
    "tmp_x = pad(preproc_english_sentences, preproc_french_sentences.shape[1])\n",
    "print(\"Padded sequences shape:\", tmp_x.shape)\n",
    "\n",
    "print(\"Shape of data fed to model.fit: {}\".format(tmp_x.shape))\n",
    "print(\"Output sequence length fed to model.fit: {}\".format(preproc_french_sentences.shape[1]))\n",
    "\n",
    "print(\"Shape of data fed to model.fit: {}\".format(tmp_x.shape))\n",
    "print(\"Output sequence length fed to model.fit: {}\".format(preproc_french_sentences.shape[1]))\n",
    "\n",
    "# TODO: Train the neural network\n",
    "model_file = \"rnn_model2.h5\"\n",
    "history_file = \"history2.txt\"\n",
    "try:\n",
    "    embedded_rnn_model = load_model(os.path.join(cache_dir, model_file))\n",
    "    print(\"Loaded model from file {}\".format(model_file))\n",
    "    embedded_rnn_model.summary()\n",
    "except:\n",
    "    print(\"Deleting history file if existing...\")\n",
    "    if os.path.isfile(os.path.join(cache_dir, history_file)):\n",
    "        os.remove(os.path.join(cache_dir, history_file))\n",
    "    print(\"Training model from scratch and saving as {}\".format(model_file))\n",
    "    embedded_rnn_model = embed_model(\n",
    "        tmp_x.shape,\n",
    "        preproc_french_sentences.shape[1],\n",
    "        len(english_tokenizer.word_index),\n",
    "        len(french_tokenizer.word_index))\n",
    "    history = embedded_rnn_model.fit(tmp_x, preproc_french_sentences, batch_size=1024, epochs=10, validation_split=0.2, callbacks=[TQDMNotebookCallback()], verbose=0)\n",
    "    embedded_rnn_model.save(os.path.join(cache_dir, model_file))\n",
    "    with open(os.path.join(cache_dir, history_file), 'w') as f:\n",
    "        json.dump(history.history, f)\n",
    "    print(\"\\nHistory file saved!\")\n",
    "\n",
    "# TODO: Print prediction(s)\n",
    "print(logits_to_text(embedded_rnn_model.predict(tmp_x[:1])[0], french_tokenizer))"
   ]
  },
  {
   "cell_type": "markdown",
   "metadata": {
    "deletable": true,
    "editable": true
   },
   "source": [
    "### Model 3: Bidirectional RNNs (IMPLEMENTATION)\n",
    "![RNN](images/bidirectional.png)\n",
    "One restriction of a RNN is that it can't see the future input, only the past.  This is where bidirectional recurrent neural networks come in.  They are able to see the future data."
   ]
  },
  {
   "cell_type": "code",
   "execution_count": 12,
   "metadata": {
    "collapsed": false,
    "deletable": true,
    "editable": true
   },
   "outputs": [
    {
     "name": "stdout",
     "output_type": "stream",
     "text": [
      "--- Preprocessing\n",
      "\tPadding English sequences to the max length of the french sequences\n",
      "\tPadded English sequences shape: (137861, 21)\n",
      "Shape of data fed to model.fit: (137861, 21)\n",
      "Output sequence length fed to model.fit: 21\n",
      "Deleting history file if existing...\n",
      "Training model from scratch and saving as rnn_model3.h5\n",
      "Model compilation: received 'input_shape': (137861, 21)\n",
      "\tShape after Input: (TensorShape([Dimension(None), Dimension(21)]),)\n",
      "\tShape after Embedding: (?, 21, 32)\n",
      "\tShape after Bidirectional GRU: (?, ?, 128)\n",
      "\tShape after Bidirectional GRU: (?, ?, 128)\n",
      "\tShape after TD(Dense): (?, 21, 346)\n",
      "\tShape after Activation (softmax): (?, 21, 346)\n",
      "_________________________________________________________________\n",
      "Layer (type)                 Output Shape              Param #   \n",
      "=================================================================\n",
      "input_3 (InputLayer)         (None, 21)                0         \n",
      "_________________________________________________________________\n",
      "embedding_2 (Embedding)      (None, 21, 32)            6400      \n",
      "_________________________________________________________________\n",
      "bidirectional_1 (Bidirection (None, 21, 128)           37248     \n",
      "_________________________________________________________________\n",
      "bidirectional_2 (Bidirection (None, 21, 128)           74112     \n",
      "_________________________________________________________________\n",
      "time_distributed_3 (TimeDist (None, 21, 346)           44634     \n",
      "_________________________________________________________________\n",
      "activation_3 (Activation)    (None, 21, 346)           0         \n",
      "=================================================================\n",
      "Total params: 162,394.0\n",
      "Trainable params: 162,394.0\n",
      "Non-trainable params: 0.0\n",
      "_________________________________________________________________\n",
      "\n",
      "Model compiled!\n"
     ]
    },
    {
     "data": {
      "application/vnd.jupyter.widget-view+json": {
       "model_id": "ce0861b97f234744a432b47c907f9fa4"
      }
     },
     "metadata": {},
     "output_type": "display_data"
    },
    {
     "data": {
      "application/vnd.jupyter.widget-view+json": {
       "model_id": "c1c4f96dd88e4a72b117ec253f1f5abf"
      }
     },
     "metadata": {},
     "output_type": "display_data"
    },
    {
     "data": {
      "application/vnd.jupyter.widget-view+json": {
       "model_id": "c27c4256133143158c9007cd9f9fd5f1"
      }
     },
     "metadata": {},
     "output_type": "display_data"
    },
    {
     "data": {
      "application/vnd.jupyter.widget-view+json": {
       "model_id": "bfa0ab54e748455c8b6270e131c8aeb8"
      }
     },
     "metadata": {},
     "output_type": "display_data"
    },
    {
     "data": {
      "application/vnd.jupyter.widget-view+json": {
       "model_id": "2096392bf2894238864559b042f03657"
      }
     },
     "metadata": {},
     "output_type": "display_data"
    },
    {
     "data": {
      "application/vnd.jupyter.widget-view+json": {
       "model_id": "3044b052cd6a47cb9fb6e0247df8f2b9"
      }
     },
     "metadata": {},
     "output_type": "display_data"
    },
    {
     "data": {
      "application/vnd.jupyter.widget-view+json": {
       "model_id": "6b4661fd58da472fbe633d573f146e79"
      }
     },
     "metadata": {},
     "output_type": "display_data"
    },
    {
     "data": {
      "application/vnd.jupyter.widget-view+json": {
       "model_id": "faf75f7fcf7a44eabd9e0b1e80762f6f"
      }
     },
     "metadata": {},
     "output_type": "display_data"
    },
    {
     "data": {
      "application/vnd.jupyter.widget-view+json": {
       "model_id": "395dd681d7524a9a9c27784ebf70c803"
      }
     },
     "metadata": {},
     "output_type": "display_data"
    },
    {
     "data": {
      "application/vnd.jupyter.widget-view+json": {
       "model_id": "95a0ff08120645c18764bf57e0ec4e1d"
      }
     },
     "metadata": {},
     "output_type": "display_data"
    },
    {
     "data": {
      "application/vnd.jupyter.widget-view+json": {
       "model_id": "e1172b3b1873450291b0c49e137c118b"
      }
     },
     "metadata": {},
     "output_type": "display_data"
    },
    {
     "name": "stdout",
     "output_type": "stream",
     "text": [
      "\n",
      "\n",
      "Model trained!\n",
      "Model saved!\n",
      "\n",
      "History file saved!\n",
      "new jersey est parfois calme pendant cours de et il est la en en avril <PAD> <PAD> <PAD> <PAD> <PAD> <PAD>\n"
     ]
    }
   ],
   "source": [
    "from keras.layers import Bidirectional\n",
    "\n",
    "\n",
    "def bd_model(input_shape, output_sequence_length, english_vocab_size, french_vocab_size):\n",
    "    \"\"\"\n",
    "    Build and train a bidirectional RNN model on x and y\n",
    "    :param input_shape: Tuple of input shape\n",
    "    :param output_sequence_length: Length of output sequence\n",
    "    :param english_vocab_size: Number of unique English words in the dataset\n",
    "    :param french_vocab_size: Number of unique French words in the dataset\n",
    "    :return: Keras model built, but not trained\n",
    "    \"\"\"\n",
    "    learning_rate=0.02\n",
    "    print(\"Model compilation: received 'input_shape': {}\".format(input_shape))\n",
    "    \n",
    "    inputs = Input(shape=(input_shape[1], ))  # The input shape is (length_of_sequence, 1)\n",
    "    print(\"\\tShape after Input: {}\".format((inputs.shape, )))\n",
    "    \n",
    "    outputs = Embedding(input_dim=english_vocab_size+1, output_dim=32, input_length=output_sequence_length)(inputs)\n",
    "    print(\"\\tShape after Embedding: {}\".format(outputs.shape))\n",
    "    \n",
    "    outputs = Bidirectional(GRU(units=64, return_sequences=True))(outputs)  # no. of units is arbitrary. Return sequences = True to return the entire output sequence, not just the last output\n",
    "    print(\"\\tShape after Bidirectional GRU: {}\".format(outputs.shape))\n",
    "    outputs = Bidirectional(GRU(units=64, return_sequences=True))(outputs)  # no. of units is arbitrary. Return sequences = True to return the entire output sequence, not just the last output\n",
    "    print(\"\\tShape after Bidirectional GRU: {}\".format(outputs.shape))\n",
    "    \n",
    "    outputs = TimeDistributed(Dense(french_vocab_size + 1))(outputs)  # 1 node for each possible French word + 1 for the padding token!\n",
    "    print(\"\\tShape after TD(Dense): {}\".format(outputs.shape))\n",
    "    \n",
    "    # The sequence (sentence) is going through the Dense layer 1 word at a time. This is done by TimeDistributed.\n",
    "    outputs = Activation('softmax')(outputs)\n",
    "    print(\"\\tShape after Activation (softmax): {}\".format(outputs.shape))\n",
    "    \n",
    "    model = Model(inputs=inputs, outputs=outputs)\n",
    "    model.compile(loss=sparse_categorical_crossentropy,\n",
    "                  optimizer=Adam(learning_rate),\n",
    "                  metrics=['accuracy'])\n",
    "    model.summary()\n",
    "    return model\n",
    "\n",
    "#tests.test_bd_model(bd_model)\n",
    "\n",
    "# TODO: Reshape the input\n",
    "print(\"--- Preprocessing\")\n",
    "print(\"\\tPadding English sequences to the max length of the french sequences\")\n",
    "tmp_x = pad(preproc_english_sentences, preproc_french_sentences.shape[1])\n",
    "print(\"\\tPadded English sequences shape:\", tmp_x.shape)\n",
    "#tmp_x = tmp_x.reshape((-1, preproc_french_sentences.shape[-2], 1))\n",
    "#print(\"\\tReshaping this for model compilation:\", tmp_x.shape)\n",
    "\n",
    "print(\"Shape of data fed to model.fit: {}\".format(tmp_x.shape))\n",
    "print(\"Output sequence length fed to model.fit: {}\".format(preproc_french_sentences.shape[1]))\n",
    "\n",
    "# TODO: Train the neural network\n",
    "model_file = \"rnn_model3.h5\"\n",
    "history_file = \"history3.txt\"\n",
    "try:\n",
    "    bd_rnn_model = load_model(os.path.join(cache_dir, model_file))\n",
    "    print(\"Loaded model from file {}\".format(model_file))\n",
    "    bd_rnn_model.summary()\n",
    "except:\n",
    "    print(\"Deleting history file if existing...\")\n",
    "    if os.path.isfile(os.path.join(cache_dir, history_file)):\n",
    "        os.remove(os.path.join(cache_dir, history_file))\n",
    "    print(\"Training model from scratch and saving as {}\".format(model_file))\n",
    "    bd_rnn_model = bd_model(\n",
    "        tmp_x.shape,\n",
    "        preproc_french_sentences.shape[1],\n",
    "        len(english_tokenizer.word_index),\n",
    "        len(french_tokenizer.word_index))\n",
    "    print(\"\\nModel compiled!\")\n",
    "    history = bd_rnn_model.fit(tmp_x, preproc_french_sentences, batch_size=1024, epochs=10, validation_split=0.2, callbacks=[TQDMNotebookCallback()], verbose=0)\n",
    "    print(\"\\nModel trained!\")\n",
    "    bd_rnn_model.save(os.path.join(cache_dir, model_file))\n",
    "    print(\"Model saved!\")\n",
    "    with open(os.path.join(cache_dir, history_file), 'w') as f:\n",
    "        json.dump(history.history, f)\n",
    "    print(\"\\nHistory file saved!\")\n",
    "\n",
    "# TODO: Print prediction(s)\n",
    "print(logits_to_text(bd_rnn_model.predict(tmp_x[:1])[0], french_tokenizer))"
   ]
  },
  {
   "cell_type": "markdown",
   "metadata": {
    "deletable": true,
    "editable": true
   },
   "source": [
    "### Model 4: Encoder-Decoder (OPTIONAL)\n",
    "Time to look at encoder-decoder models.  This model is made up of an encoder and decoder. The encoder creates a matrix representation of the sentence.  The decoder takes this matrix as input and predicts the translation as output.\n",
    "\n",
    "Create an encoder-decoder model in the cell below."
   ]
  },
  {
   "cell_type": "code",
   "execution_count": 13,
   "metadata": {
    "collapsed": false,
    "deletable": true,
    "editable": true
   },
   "outputs": [
    {
     "name": "stdout",
     "output_type": "stream",
     "text": [
      "--- Preprocessing\n",
      "\tPadding English sequences to the max length of the french sequences\n",
      "\tPadded English sequences shape: (137861, 21)\n",
      "Shape of data fed to model.fit: (137861, 21)\n",
      "Output sequence length fed to model.fit: 21\n",
      "Deleting history file if existing...\n",
      "Training model from scratch and saving as rnn_model4.h5\n",
      "Model compilation: received 'input_shape': (137861, 21)\n",
      "\tShape after Input: (?, 21)\n",
      "\tShape after Embedding: (?, 21, 32)\n",
      "\tShape after bidirectional GRU: (?, 128)\n",
      "\tShape after RepeatVector: (?, 21, 128)\n",
      "\tShape after GRU: (?, ?, 128)\n",
      "\tShape after TD(Dense): (?, 21, 346)\n",
      "\tShape after Activation: (?, 21, 346)\n",
      "_________________________________________________________________\n",
      "Layer (type)                 Output Shape              Param #   \n",
      "=================================================================\n",
      "input_4 (InputLayer)         (None, 21)                0         \n",
      "_________________________________________________________________\n",
      "embedding_3 (Embedding)      (None, 21, 32)            6400      \n",
      "_________________________________________________________________\n",
      "bidirectional_3 (Bidirection (None, 21, 128)           37248     \n",
      "_________________________________________________________________\n",
      "bidirectional_4 (Bidirection (None, 128)               74112     \n",
      "_________________________________________________________________\n",
      "repeat_vector_1 (RepeatVecto (None, 21, 128)           0         \n",
      "_________________________________________________________________\n",
      "gru_7 (GRU)                  (None, 21, 128)           98688     \n",
      "_________________________________________________________________\n",
      "time_distributed_4 (TimeDist (None, 21, 346)           44634     \n",
      "_________________________________________________________________\n",
      "activation_4 (Activation)    (None, 21, 346)           0         \n",
      "=================================================================\n",
      "Total params: 261,082.0\n",
      "Trainable params: 261,082.0\n",
      "Non-trainable params: 0.0\n",
      "_________________________________________________________________\n",
      "\n",
      "Model compiled!\n"
     ]
    },
    {
     "data": {
      "application/vnd.jupyter.widget-view+json": {
       "model_id": "ff8da3584e4448b6857f588592c21bda"
      }
     },
     "metadata": {},
     "output_type": "display_data"
    },
    {
     "data": {
      "application/vnd.jupyter.widget-view+json": {
       "model_id": "f29208dbe23c493cbef1f038c8473579"
      }
     },
     "metadata": {},
     "output_type": "display_data"
    },
    {
     "data": {
      "application/vnd.jupyter.widget-view+json": {
       "model_id": "edfbfb88e66a4e4caf3f23be12d3420b"
      }
     },
     "metadata": {},
     "output_type": "display_data"
    },
    {
     "data": {
      "application/vnd.jupyter.widget-view+json": {
       "model_id": "b8a3d4100182459fb4759c8a67b8877b"
      }
     },
     "metadata": {},
     "output_type": "display_data"
    },
    {
     "data": {
      "application/vnd.jupyter.widget-view+json": {
       "model_id": "a062e15e2d2c4e328bb535d7dfd1004e"
      }
     },
     "metadata": {},
     "output_type": "display_data"
    },
    {
     "data": {
      "application/vnd.jupyter.widget-view+json": {
       "model_id": "889691a13365467287e797cf18f8d7fb"
      }
     },
     "metadata": {},
     "output_type": "display_data"
    },
    {
     "data": {
      "application/vnd.jupyter.widget-view+json": {
       "model_id": "fa1722efd127425bb740e5020947d046"
      }
     },
     "metadata": {},
     "output_type": "display_data"
    },
    {
     "data": {
      "application/vnd.jupyter.widget-view+json": {
       "model_id": "0a3c51636f4a4d468b2281ea33d9a988"
      }
     },
     "metadata": {},
     "output_type": "display_data"
    },
    {
     "data": {
      "application/vnd.jupyter.widget-view+json": {
       "model_id": "7170a08336d24ddabb88cfd9fe111d6d"
      }
     },
     "metadata": {},
     "output_type": "display_data"
    },
    {
     "data": {
      "application/vnd.jupyter.widget-view+json": {
       "model_id": "5cf2ef39807b443fb27dcd1ed0ffb048"
      }
     },
     "metadata": {},
     "output_type": "display_data"
    },
    {
     "data": {
      "application/vnd.jupyter.widget-view+json": {
       "model_id": "d340513ab5954d4f9bd0568e59066e06"
      }
     },
     "metadata": {},
     "output_type": "display_data"
    },
    {
     "name": "stdout",
     "output_type": "stream",
     "text": [
      "\n",
      "\n",
      "Model trained!\n",
      "\n",
      "Model saved!\n",
      "\n",
      "History file saved!\n",
      "new jersey est parfois agrã©able pendant l' et il est est en en en <PAD> <PAD> <PAD> <PAD> <PAD> <PAD> <PAD>\n"
     ]
    }
   ],
   "source": [
    "from keras.layers import RepeatVector\n",
    "\n",
    "\n",
    "def encdec_model(input_shape, output_sequence_length, english_vocab_size, french_vocab_size):\n",
    "    \"\"\"\n",
    "    Build and train an encoder-decoder model on x and y\n",
    "    :param input_shape: Tuple of input shape\n",
    "    :param output_sequence_length: Length of output sequence\n",
    "    :param english_vocab_size: Number of unique English words in the dataset\n",
    "    :param french_vocab_size: Number of unique French words in the dataset\n",
    "    :return: Keras model built, but not trained\n",
    "    \"\"\"\n",
    "    learning_rate=0.02\n",
    "    \n",
    "    # START OF ENCODER ----\n",
    "    print(\"Model compilation: received 'input_shape': {}\".format(input_shape))\n",
    "    \n",
    "    inputs = Input(shape=input_shape[1:])  # The input shape is (length_of_sequence, 1)\n",
    "    print(\"\\tShape after Input: {}\".format(inputs.shape))\n",
    "    \n",
    "    outputs = Embedding(input_dim=english_vocab_size+1, output_dim=32, input_length=input_shape[-1])(inputs)\n",
    "    print(\"\\tShape after Embedding: {}\".format(outputs.shape))\n",
    "    \n",
    "    outputs = Bidirectional(GRU(units=64, return_sequences=True))(outputs)  # no. of units is arbitrary. Return sequences = True to return the entire output sequence, not just the last output\n",
    "    outputs = Bidirectional(GRU(units=64, return_sequences=False))(outputs)  # no. of units is arbitrary. Return sequences = True to return the entire output sequence, not just the last output\n",
    "    print(\"\\tShape after bidirectional GRU: {}\".format(outputs.shape))\n",
    "    \n",
    "    # END OF ENCODER ------\n",
    "    \n",
    "    outputs = RepeatVector(output_sequence_length)(outputs)\n",
    "    print(\"\\tShape after RepeatVector: {}\".format(outputs.shape))\n",
    "    \n",
    "    # START OF DECODER ----\n",
    "    outputs = GRU(units=128, return_sequences=True)(outputs)  # no. of units is arbitrary. Return sequences = True to return the entire output sequence, not just the last output\n",
    "    print(\"\\tShape after GRU: {}\".format(outputs.shape))\n",
    "    \n",
    "    outputs = TimeDistributed(Dense(french_vocab_size + 1))(outputs)  # 1 node for each possible French word + 1 for the padding token!\n",
    "    print(\"\\tShape after TD(Dense): {}\".format(outputs.shape))\n",
    "    \n",
    "    # The sequence (sentence) is going through the Dense layer 1 word at a time. This is done by TimeDistributed.\n",
    "    outputs = Activation('softmax')(outputs)\n",
    "    print(\"\\tShape after Activation: {}\".format(outputs.shape))\n",
    "    \n",
    "    # END OF DECODER ------\n",
    "    \n",
    "    model = Model(inputs=inputs, outputs=outputs)\n",
    "    model.compile(loss=sparse_categorical_crossentropy,\n",
    "                  optimizer=Adam(learning_rate),\n",
    "                  metrics=['accuracy'])\n",
    "    model.summary()\n",
    "    return model\n",
    "\n",
    "#tests.test_encdec_model(encdec_model)\n",
    "\n",
    "# TODO: Reshape the input\n",
    "print(\"--- Preprocessing\")\n",
    "print(\"\\tPadding English sequences to the max length of the french sequences\")\n",
    "tmp_x = pad(preproc_english_sentences, preproc_french_sentences.shape[1])\n",
    "print(\"\\tPadded English sequences shape:\", tmp_x.shape)\n",
    "#tmp_x = tmp_x.reshape((-1, preproc_french_sentences.shape[-2], 1))\n",
    "#print(\"\\tReshaping this for model compilation:\", tmp_x.shape)\n",
    "\n",
    "print(\"Shape of data fed to model.fit: {}\".format(tmp_x.shape))\n",
    "print(\"Output sequence length fed to model.fit: {}\".format(preproc_french_sentences.shape[1]))\n",
    "\n",
    "# TODO: Train the neural network\n",
    "model_file = \"rnn_model4.h5\"\n",
    "history_file = \"history4.txt\"\n",
    "try:\n",
    "    encdec_rnn_model = load_model(os.path.join(cache_dir, model_file))\n",
    "    print(\"Loaded model from file {}\".format(model_file))\n",
    "    encdec_rnn_model.summary()\n",
    "except:\n",
    "    print(\"Deleting history file if existing...\")\n",
    "    if os.path.isfile(os.path.join(cache_dir, history_file)):\n",
    "        os.remove(os.path.join(cache_dir, history_file))\n",
    "    print(\"Training model from scratch and saving as {}\".format(model_file))\n",
    "    encdec_rnn_model = encdec_model(\n",
    "        tmp_x.shape,\n",
    "        preproc_french_sentences.shape[1],\n",
    "        len(english_tokenizer.word_index),\n",
    "        len(french_tokenizer.word_index))\n",
    "    print(\"\\nModel compiled!\")\n",
    "    history = encdec_rnn_model.fit(tmp_x, preproc_french_sentences, batch_size=1024, epochs=10, validation_split=0.2, callbacks=[TQDMNotebookCallback()], verbose=0)\n",
    "    print(\"\\nModel trained!\")\n",
    "    encdec_rnn_model.save(os.path.join(cache_dir, model_file))\n",
    "    print(\"\\nModel saved!\")\n",
    "    with open(os.path.join(cache_dir, history_file), 'w') as f:\n",
    "        json.dump(history.history, f)\n",
    "    print(\"\\nHistory file saved!\")\n",
    "\n",
    "# TODO: Print prediction(s)\n",
    "print(logits_to_text(encdec_rnn_model.predict(tmp_x[:1])[0], french_tokenizer))"
   ]
  },
  {
   "cell_type": "markdown",
   "metadata": {
    "deletable": true,
    "editable": true
   },
   "source": [
    "### Model 5: Custom (IMPLEMENTATION)\n",
    "Use everything you learned from the previous models to create a model that incorporates embedding and a bidirectional rnn into one model."
   ]
  },
  {
   "cell_type": "code",
   "execution_count": 14,
   "metadata": {
    "collapsed": false,
    "deletable": true,
    "editable": true
   },
   "outputs": [
    {
     "name": "stdout",
     "output_type": "stream",
     "text": [
      "Padded sequences shape: (137861, 21)\n",
      "Shape of data fed to model.fit: (137861, 21)\n",
      "Output sequence length fed to model.fit: 21\n",
      "Deleting history file if existing...\n",
      "Training model from scratch and saving as rnn_model5.h5\n",
      "Using input shape (21,)\n",
      "Shape of Model() inputs: (?, 21)\n",
      "Shape after word embedding: (?, 21, 32)\n",
      "Shape after bidirectional GRU: (?, 256)\n",
      "Shape of the last time slice passed on to the decoder: (?, 21, 256)\n",
      "Shape after GRU: (?, ?, 256)\n",
      "Shape after TD(Dense): (?, 21, 346)\n",
      "_________________________________________________________________\n",
      "Layer (type)                 Output Shape              Param #   \n",
      "=================================================================\n",
      "input_5 (InputLayer)         (None, 21)                0         \n",
      "_________________________________________________________________\n",
      "embedding_4 (Embedding)      (None, 21, 32)            6400      \n",
      "_________________________________________________________________\n",
      "bidirectional_5 (Bidirection (None, 21, 512)           443904    \n",
      "_________________________________________________________________\n",
      "bidirectional_6 (Bidirection (None, 256)               492288    \n",
      "_________________________________________________________________\n",
      "repeat_vector_2 (RepeatVecto (None, 21, 256)           0         \n",
      "_________________________________________________________________\n",
      "gru_10 (GRU)                 (None, 21, 256)           393984    \n",
      "_________________________________________________________________\n",
      "time_distributed_5 (TimeDist (None, 21, 346)           88922     \n",
      "_________________________________________________________________\n",
      "activation_5 (Activation)    (None, 21, 346)           0         \n",
      "=================================================================\n",
      "Total params: 1,425,498.0\n",
      "Trainable params: 1,425,498.0\n",
      "Non-trainable params: 0.0\n",
      "_________________________________________________________________\n",
      "\n",
      "Model compiled!\n"
     ]
    },
    {
     "data": {
      "application/vnd.jupyter.widget-view+json": {
       "model_id": "1ed6b8554a154eca8dbd9e0ed3a5b950"
      }
     },
     "metadata": {},
     "output_type": "display_data"
    },
    {
     "data": {
      "application/vnd.jupyter.widget-view+json": {
       "model_id": "03f48ccbb49e4610a306043cdc5aa871"
      }
     },
     "metadata": {},
     "output_type": "display_data"
    },
    {
     "data": {
      "application/vnd.jupyter.widget-view+json": {
       "model_id": "a7f5bf05f5f94ba5be441e54dde01c84"
      }
     },
     "metadata": {},
     "output_type": "display_data"
    },
    {
     "data": {
      "application/vnd.jupyter.widget-view+json": {
       "model_id": "76e695f1c54949e7833ea1b35338b118"
      }
     },
     "metadata": {},
     "output_type": "display_data"
    },
    {
     "data": {
      "application/vnd.jupyter.widget-view+json": {
       "model_id": "dad9514270d14a2292228287c2122d4a"
      }
     },
     "metadata": {},
     "output_type": "display_data"
    },
    {
     "data": {
      "application/vnd.jupyter.widget-view+json": {
       "model_id": "b57e92d56ecf41aa890c7c63a68a8d2f"
      }
     },
     "metadata": {},
     "output_type": "display_data"
    },
    {
     "data": {
      "application/vnd.jupyter.widget-view+json": {
       "model_id": "6c7d881cd3574dda97f4c75641481bfc"
      }
     },
     "metadata": {},
     "output_type": "display_data"
    },
    {
     "data": {
      "application/vnd.jupyter.widget-view+json": {
       "model_id": "37ec9e25546e4e83924dcc17c24bf491"
      }
     },
     "metadata": {},
     "output_type": "display_data"
    },
    {
     "data": {
      "application/vnd.jupyter.widget-view+json": {
       "model_id": "cdc198a373f1458aa2f35c22517d0714"
      }
     },
     "metadata": {},
     "output_type": "display_data"
    },
    {
     "data": {
      "application/vnd.jupyter.widget-view+json": {
       "model_id": "0ffe24b026eb4bf99a4ba93758b5c5fd"
      }
     },
     "metadata": {},
     "output_type": "display_data"
    },
    {
     "data": {
      "application/vnd.jupyter.widget-view+json": {
       "model_id": "b35dfa55d7954998a865ed37c496bee7"
      }
     },
     "metadata": {},
     "output_type": "display_data"
    },
    {
     "name": "stdout",
     "output_type": "stream",
     "text": [
      "\n",
      "\n",
      "Model trained!\n",
      "\n",
      "Model saved!\n",
      "\n",
      "History file saved!\n",
      "new jersey est parfois calme pendant l' automne et il est neigeux en avril <PAD> <PAD> <PAD> <PAD> <PAD> <PAD> <PAD>\n"
     ]
    }
   ],
   "source": [
    "from keras.layers import Dropout\n",
    "\n",
    "def model_final(input_shape, output_sequence_length, english_vocab_size, french_vocab_size, verbose=True):\n",
    "    \"\"\"\n",
    "    Build and train a model that incorporates embedding, encoder-decoder, and bidirectional RNN on x and y\n",
    "    :param input_shape: Tuple of input shape\n",
    "    :param output_sequence_length: Length of output sequence\n",
    "    :param english_vocab_size: Number of unique English words in the dataset\n",
    "    :param french_vocab_size: Number of unique French words in the dataset\n",
    "    :return: Keras model built, but not trained\n",
    "    \"\"\"\n",
    "    learning_rate=0.005\n",
    "    \n",
    "    # START OF ENCODER ----\n",
    "    if verbose: print(\"Using input shape {}\".format(input_shape[1:]))\n",
    "    \n",
    "    inputs = Input(shape=input_shape[1:])  # The input shape is (length_of_sequence, 1)\n",
    "    if verbose: print(\"Shape of Model() inputs: {}\".format(inputs.shape))\n",
    "    \n",
    "    outputs = Embedding(input_dim=english_vocab_size+1, output_dim=32, input_length=input_shape[-1])(inputs)\n",
    "    if verbose: print(\"Shape after word embedding: {}\".format(outputs.shape))\n",
    "    \n",
    "    outputs = Bidirectional(GRU(units=256, return_sequences=True))(outputs)  # no. of units is arbitrary. Return sequences = True to return the entire output sequence, not just the last output\n",
    "    #outputs = Dropout(0.25)(outputs)\n",
    "    outputs = Bidirectional(GRU(units=128, return_sequences=False))(outputs)  # no. of units is arbitrary. Return sequences = True to return the entire output sequence, not just the last output\n",
    "    if verbose: print(\"Shape after bidirectional GRU: {}\".format(outputs.shape))\n",
    "    \n",
    "    # END OF ENCODER ------\n",
    "    \n",
    "    outputs = RepeatVector(output_sequence_length)(outputs)\n",
    "    if verbose: print(\"Shape of the last time slice passed on to the decoder: {}\".format(outputs.shape))\n",
    "    \n",
    "    # START OF DECODER ----\n",
    "    outputs = GRU(units=256, return_sequences=True)(outputs)  # no. of units is arbitrary. Return sequences = True to return the entire output sequence, not just the last output\n",
    "    #outputs = Dropout(0.25)(outputs)\n",
    "    if verbose: print(\"Shape after GRU: {}\".format(outputs.shape))\n",
    "    \n",
    "    outputs = TimeDistributed(Dense(french_vocab_size + 1))(outputs)  # 1 node for each possible French word + 1 for the padding token!\n",
    "    if verbose: print(\"Shape after TD(Dense): {}\".format(outputs.shape))\n",
    "    \n",
    "    # The sequence (sentence) is going through the Dense layer 1 word at a time. This is done by TimeDistributed.\n",
    "    outputs = Activation('softmax')(outputs)\n",
    "    \n",
    "    # END OF DECODER ------\n",
    "    \n",
    "    model = Model(inputs=inputs, outputs=outputs)\n",
    "    model.compile(loss=sparse_categorical_crossentropy,\n",
    "                  optimizer=Adam(learning_rate),\n",
    "                  metrics=['accuracy'])\n",
    "    if verbose: model.summary()\n",
    "    return model\n",
    "\n",
    "#tests.test_model_final(model_final)\n",
    "\n",
    "# TODO: Reshape the input\n",
    "tmp_x = pad(preproc_english_sentences, preproc_french_sentences.shape[1])\n",
    "print(\"Padded sequences shape:\", tmp_x.shape)\n",
    "#tmp_x = tmp_x.reshape((-1, preproc_french_sentences.shape[-2], 1))\n",
    "#print(\"Reshaped for model input:\", tmp_x.shape)\n",
    "\n",
    "print(\"Shape of data fed to model.fit: {}\".format(tmp_x.shape))\n",
    "print(\"Output sequence length fed to model.fit: {}\".format(preproc_french_sentences.shape[1]))\n",
    "\n",
    "# TODO: Train the neural network\n",
    "model_file = \"rnn_model5.h5\"\n",
    "history_file = \"history5.txt\"\n",
    "try:\n",
    "    final_rnn_model = load_model(os.path.join(cache_dir, model_file))\n",
    "    print(\"Loaded model from file {}\".format(model_file))\n",
    "    final_rnn_model.summary()\n",
    "except:\n",
    "    print(\"Deleting history file if existing...\")\n",
    "    if os.path.isfile(os.path.join(cache_dir, history_file)):\n",
    "        os.remove(os.path.join(cache_dir, history_file))\n",
    "    print(\"Training model from scratch and saving as {}\".format(model_file))\n",
    "    final_rnn_model = model_final(\n",
    "        tmp_x.shape,\n",
    "        preproc_french_sentences.shape[1],\n",
    "        len(english_tokenizer.word_index),\n",
    "        len(french_tokenizer.word_index))\n",
    "    print(\"\\nModel compiled!\")\n",
    "    history = final_rnn_model.fit(tmp_x, preproc_french_sentences, batch_size=512, epochs=10, validation_split=0.2, callbacks=[TQDMNotebookCallback()], verbose=0)\n",
    "    print(\"\\nModel trained!\")\n",
    "    final_rnn_model.save(os.path.join(cache_dir, model_file))\n",
    "    print(\"\\nModel saved!\")\n",
    "    with open(os.path.join(cache_dir, history_file), 'w') as f:\n",
    "        json.dump(history.history, f)\n",
    "    print(\"\\nHistory file saved!\")\n",
    "\n",
    "# TODO: Print prediction(s)\n",
    "print(logits_to_text(final_rnn_model.predict(tmp_x[:1])[0], french_tokenizer))"
   ]
  },
  {
   "cell_type": "markdown",
   "metadata": {
    "deletable": true,
    "editable": true
   },
   "source": [
    "## Prediction (IMPLEMENTATION)"
   ]
  },
  {
   "cell_type": "code",
   "execution_count": 15,
   "metadata": {
    "collapsed": false,
    "deletable": true,
    "editable": true
   },
   "outputs": [
    {
     "name": "stdout",
     "output_type": "stream",
     "text": [
      "Loaded model from file rnn_model5.h5\n",
      "_________________________________________________________________\n",
      "Layer (type)                 Output Shape              Param #   \n",
      "=================================================================\n",
      "input_5 (InputLayer)         (None, 21)                0         \n",
      "_________________________________________________________________\n",
      "embedding_4 (Embedding)      (None, 21, 32)            6400      \n",
      "_________________________________________________________________\n",
      "bidirectional_5 (Bidirection (None, 21, 512)           443904    \n",
      "_________________________________________________________________\n",
      "bidirectional_6 (Bidirection (None, 256)               492288    \n",
      "_________________________________________________________________\n",
      "repeat_vector_2 (RepeatVecto (None, 21, 256)           0         \n",
      "_________________________________________________________________\n",
      "gru_10 (GRU)                 (None, 21, 256)           393984    \n",
      "_________________________________________________________________\n",
      "time_distributed_5 (TimeDist (None, 21, 346)           88922     \n",
      "_________________________________________________________________\n",
      "activation_5 (Activation)    (None, 21, 346)           0         \n",
      "=================================================================\n",
      "Total params: 1,425,498.0\n",
      "Trainable params: 1,425,498.0\n",
      "Non-trainable params: 0.0\n",
      "_________________________________________________________________\n",
      "Sample 1:\n",
      "il a vu un vieux camion jaune <PAD> <PAD> <PAD> <PAD> <PAD> <PAD> <PAD> <PAD> <PAD> <PAD> <PAD> <PAD> <PAD> <PAD>\n",
      "Il a vu un vieux camion jaune\n",
      "Sample 2:\n",
      "new jersey est parfois calme pendant l' automne et il est neigeux en avril <PAD> <PAD> <PAD> <PAD> <PAD> <PAD> <PAD>\n",
      "new jersey est parfois calme pendant l' automne et il est neigeux en avril <PAD> <PAD> <PAD> <PAD> <PAD> <PAD> <PAD>\n"
     ]
    }
   ],
   "source": [
    "import numpy as np\n",
    "from keras.preprocessing.sequence import pad_sequences\n",
    "\n",
    "\n",
    "def final_predictions(x, y, x_tk, y_tk, verbose=True):\n",
    "    \"\"\"\n",
    "    Gets predictions using the final model\n",
    "    :param x: Preprocessed English data\n",
    "    :param y: Preprocessed French data\n",
    "    :param x_tk: English tokenizer\n",
    "    :param y_tk: French tokenizer\n",
    "    \"\"\"\n",
    "    # TODO: Train neural network using model_final\n",
    "    model_file = \"rnn_model5.h5\"\n",
    "\n",
    "    # TODO: Reshape the input\n",
    "    x = pad(x, y.shape[1])\n",
    "   \n",
    "    try:\n",
    "        model = load_model(os.path.join(cache_dir, model_file))\n",
    "        if verbose: print(\"Loaded model from file {}\".format(model_file))\n",
    "        if verbose: model.summary()\n",
    "    except:\n",
    "        print(\"Model with file name {} not found\".format(model_file))\n",
    "    \n",
    "    ## DON'T EDIT ANYTHING BELOW THIS LINE\n",
    "    y_id_to_word = {value: key for key, value in y_tk.word_index.items()}\n",
    "    y_id_to_word[0] = '<PAD>'\n",
    "    \n",
    "    x_id_to_word = {value: key for key, value in x_tk.word_index.items()}\n",
    "    x_id_to_word[0] = '<PAD>'\n",
    "\n",
    "    sentence = 'he saw a old yellow truck'\n",
    "    sentence = [x_tk.word_index[word] for word in sentence.split()]\n",
    "    sentence = pad_sequences([sentence], maxlen=x.shape[-1], padding='post')\n",
    "    sentences = np.array([sentence[0], x[0]])\n",
    "    predictions = model.predict(sentences, len(sentences))\n",
    "\n",
    "    if verbose: print('Sample 1:')\n",
    "    if verbose: print(' '.join([y_id_to_word[np.argmax(x)] for x in predictions[0]]))\n",
    "    if verbose: print('Il a vu un vieux camion jaune')\n",
    "    if verbose: print('Sample 2:')\n",
    "    if verbose: print(' '.join([y_id_to_word[np.argmax(x)] for x in predictions[1]]))\n",
    "    if verbose: print(' '.join([y_id_to_word[x[0]] for x in y[0]]))\n",
    "    \n",
    "    english = []\n",
    "    for s in sentences:\n",
    "        english.append([' '.join([x_id_to_word[x] for x in s])])\n",
    "    french = []\n",
    "    for p in predictions:\n",
    "        french.append([' '.join([y_id_to_word[np.argmax(x)] for x in p])])\n",
    "    \n",
    "    return english, french\n",
    "\n",
    "s, p = final_predictions(preproc_english_sentences, preproc_french_sentences, english_tokenizer, french_tokenizer, verbose=True)"
   ]
  },
  {
   "cell_type": "code",
   "execution_count": 16,
   "metadata": {
    "collapsed": false,
    "deletable": true,
    "editable": true
   },
   "outputs": [
    {
     "name": "stdout",
     "output_type": "stream",
     "text": [
      "English: he saw a old yellow truck.\n",
      "French:  il a vu un vieux camion jaune.\n",
      "\n",
      "English: new jersey is sometimes quiet during autumn and it is snowy in april.\n",
      "French:  new jersey est parfois calme pendant l' automne et il est neigeux en avril.\n",
      "\n"
     ]
    }
   ],
   "source": [
    "# Clean data and present in a nice way\n",
    "eng = []\n",
    "for i in range(len(s)):\n",
    "    sen = s[i][0].replace(\" <PAD>\", \".\", 1)\n",
    "    sen = sen.replace(\" <PAD>\", \"\")\n",
    "    eng.append(sen)\n",
    "fr = []\n",
    "for i in range(len(p)):\n",
    "    sen = p[i][0].replace(\" <PAD>\", \".\", 1)\n",
    "    sen = sen.replace(\" <PAD>\", \"\")\n",
    "    fr.append(sen)\n",
    "\n",
    "for i in range(len(eng)):\n",
    "    print(\"English:\", eng[i])\n",
    "    print(\"French: \", fr[i])\n",
    "    print()"
   ]
  },
  {
   "cell_type": "markdown",
   "metadata": {
    "deletable": true,
    "editable": true
   },
   "source": [
    "## Submission\n",
    "When you are ready to submit your project, do the following steps:\n",
    "1. Ensure you pass all points on the [rubric](https://review.udacity.com/#!/rubrics/1004/view).\n",
    "2. Submit the following in a zip file.\n",
    "  - `helper.py`\n",
    "  - `machine_translation.ipynb`\n",
    "  - `machine_translation.html`\n",
    "    - You can export the notebook by navigating to **File -> Download as -> HTML (.html)**."
   ]
  }
 ],
 "metadata": {
  "anaconda-cloud": {},
  "kernelspec": {
   "display_name": "Python 3",
   "language": "python",
   "name": "python3"
  },
  "language_info": {
   "codemirror_mode": {
    "name": "ipython",
    "version": 3
   },
   "file_extension": ".py",
   "mimetype": "text/x-python",
   "name": "python",
   "nbconvert_exporter": "python",
   "pygments_lexer": "ipython3",
   "version": "3.5.3"
  }
 },
 "nbformat": 4,
 "nbformat_minor": 0
}
